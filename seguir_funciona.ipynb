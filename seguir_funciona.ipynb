{
 "cells": [
  {
   "cell_type": "code",
   "execution_count": 1,
   "id": "a0cb8096",
   "metadata": {},
   "outputs": [],
   "source": [
    "#control f para buscar en inspeccionar"
   ]
  },
  {
   "cell_type": "code",
   "execution_count": 7,
   "id": "4a2c716f",
   "metadata": {},
   "outputs": [],
   "source": [
    "import os\n",
    "from selenium import webdriver\n",
    "from selenium.common.exceptions import TimeoutException\n",
    "from selenium.webdriver.support.ui import WebDriverWait # available since 2.4.0\n",
    "import time\n",
    "from selenium.webdriver.common.by import By\n",
    "from webdriver_manager.chrome import ChromeDriverManager\n"
   ]
  },
  {
   "cell_type": "code",
   "execution_count": 8,
   "id": "afa346eb",
   "metadata": {},
   "outputs": [],
   "source": [
    "#pip install webdriver-manager\n",
    "ruta = os.getcwd()\n",
    "driver_path = '{}\\chromedriver.exe'.format(ruta)\n",
    "driver = webdriver.Chrome()\n",
    "driver.get('https://instagram.com')\n",
    "time.sleep(5)\n"
   ]
  },
  {
   "cell_type": "code",
   "execution_count": 9,
   "id": "2825e604",
   "metadata": {},
   "outputs": [
    {
     "name": "stdout",
     "output_type": "stream",
     "text": [
      "C:\\Users\\user\\curso\n"
     ]
    }
   ],
   "source": [
    "print(os.getcwd())"
   ]
  },
  {
   "cell_type": "code",
   "execution_count": 10,
   "id": "bf262b41",
   "metadata": {},
   "outputs": [],
   "source": [
    "#ojo con la version del chromedriver:https://sites.google.com/chromium.org/driver/\n",
    "#decarga la mas actualizada"
   ]
  },
  {
   "cell_type": "code",
   "execution_count": 11,
   "id": "7c950afb",
   "metadata": {},
   "outputs": [],
   "source": [
    "#ruta = os.getcwd()\n",
    "#driver = webdriver.Chrome()\n",
    "#driver.get('https://instagram.com')\n",
    "#time.sleep(3)"
   ]
  },
  {
   "cell_type": "code",
   "execution_count": 12,
   "id": "2f4deb50",
   "metadata": {},
   "outputs": [],
   "source": [
    "driver.set_window_size(500, 1000)"
   ]
  },
  {
   "cell_type": "code",
   "execution_count": 13,
   "id": "34f2e277",
   "metadata": {},
   "outputs": [],
   "source": [
    "username= driver.find_element(By.XPATH, '//*[@id=\"loginForm\"]/div/div[1]/div/label/input')\n",
    "username.click()\n",
    "username.send_keys(us)\n",
    "time.sleep(5)"
   ]
  },
  {
   "cell_type": "code",
   "execution_count": 14,
   "id": "b8de6f8f",
   "metadata": {},
   "outputs": [],
   "source": [
    "username = driver.find_element(By.XPATH, '//*[@id=\"loginForm\"]/div/div[2]/div/label/input')\n",
    "username.click()\n",
    "username.send_keys(pas)\n",
    "time.sleep(7)\n"
   ]
  },
  {
   "cell_type": "code",
   "execution_count": 15,
   "id": "6041a886",
   "metadata": {},
   "outputs": [],
   "source": [
    "try:\n",
    "    time.sleep(2)\n",
    "    login = driver.find_element(By.XPATH, '//*[@id=\"loginForm\"]/div/div[3]/button')\n",
    "    login.click()\n",
    "    time.sleep(5)\n",
    "except:\n",
    "    pass"
   ]
  },
  {
   "cell_type": "code",
   "execution_count": 17,
   "id": "645db123",
   "metadata": {},
   "outputs": [],
   "source": [
    "try:\n",
    "    time.sleep(2)\n",
    "    buscado = driver.find_element(By.XPATH, '//*[@id=\"loginForm\"]/div/div[4]/button')\n",
    "    buscando.click()\n",
    "except:\n",
    "    pass\n",
    "\n"
   ]
  },
  {
   "cell_type": "code",
   "execution_count": 18,
   "id": "5ee9fbb2",
   "metadata": {},
   "outputs": [],
   "source": [
    "try:\n",
    "    login = driver.find_element(By.XPATH,\"//button[@type='submit']\")\n",
    "    login.click()\n",
    "    time.sleep(5)\n",
    "except: \n",
    "    pass"
   ]
  },
  {
   "cell_type": "code",
   "execution_count": 19,
   "id": "050e0076",
   "metadata": {},
   "outputs": [
    {
     "name": "stdout",
     "output_type": "stream",
     "text": [
      "['CLASS_NAME', 'CSS_SELECTOR', 'ID', 'LINK_TEXT', 'NAME', 'PARTIAL_LINK_TEXT', 'TAG_NAME', 'XPATH', '__class__', '__delattr__', '__dict__', '__dir__', '__doc__', '__eq__', '__format__', '__ge__', '__getattribute__', '__gt__', '__hash__', '__init__', '__init_subclass__', '__le__', '__lt__', '__module__', '__ne__', '__new__', '__reduce__', '__reduce_ex__', '__repr__', '__setattr__', '__sizeof__', '__str__', '__subclasshook__', '__weakref__']\n"
     ]
    }
   ],
   "source": [
    "print(dir(By))"
   ]
  },
  {
   "cell_type": "code",
   "execution_count": 20,
   "id": "6a38d78a",
   "metadata": {},
   "outputs": [],
   "source": [
    "try:\n",
    "    acti_n =  button = boton = driver.find_element(By.CLASS_NAME,\"x-1i10hfl\")\n",
    "    acti_n.click()\n",
    "    time.sleep(4)\n",
    "except:\n",
    "    pass\n"
   ]
  },
  {
   "cell_type": "code",
   "execution_count": 22,
   "id": "2c53c7c9",
   "metadata": {},
   "outputs": [],
   "source": [
    "driver.get('https://www.instagram.com/cristiano/')"
   ]
  },
  {
   "cell_type": "code",
   "execution_count": 23,
   "id": "8a34e2ba",
   "metadata": {},
   "outputs": [],
   "source": [
    "time.sleep(10)\n",
    "driver.find_element(By.XPATH, '//a[contains(@href, \"/following\")]').click()\n",
    "time.sleep(10)\n"
   ]
  },
  {
   "cell_type": "code",
   "execution_count": 24,
   "id": "a147b006",
   "metadata": {},
   "outputs": [],
   "source": [
    "import time\n",
    "scroll_box = driver.find_element(By.XPATH, \"//div[@class='_aano']\")\n",
    "# Definir el tiempo que deseas que dure el bucle en segundos\n",
    "tiempo_deseado = 60  # Por ejemplo, 60 segundos (1 minuto)\n",
    "# Obtener el tiempo actual en segundos\n",
    "tiempo_inicial = time.time()\n",
    "\n",
    "while True:\n",
    "    time.sleep(2)\n",
    "    ht = driver.execute_script(\"\"\" \n",
    "    arguments[0].scrollTo(0, arguments[0].scrollHeight);\n",
    "    return arguments[0].scrollHeight; \"\"\", scroll_box)\n",
    "    time.sleep(5)\n",
    "    #verificar tiempo actual nuevamente\n",
    "    tiempo_actual = time.time()\n",
    "    # Verificar si ha pasado el tiempo deseado\n",
    "    if tiempo_actual - tiempo_inicial >= tiempo_deseado:\n",
    "        break\n",
    "    "
   ]
  },
  {
   "cell_type": "code",
   "execution_count": 25,
   "id": "9195c8a4",
   "metadata": {},
   "outputs": [],
   "source": [
    "seg = driver.find_elements(By.XPATH,\"//a[@class='x1i10hfl xjbqb8w x6umtig x1b1mbwd xaqea5y xav7gou x9f619 x1ypdohk xt0psk2 xe8uvvx xdj266r x11i5rnm xat24cr x1mh8g0r xexx8yu x4uap5 x18d9i69 xkhd6sd x16tdsg8 x1hl2dhg xggy1nq x1a2a7pz notranslate _a6hd']\")"
   ]
  },
  {
   "cell_type": "code",
   "execution_count": 26,
   "id": "67aa2143",
   "metadata": {},
   "outputs": [],
   "source": [
    "seg = [i.get_attribute('href') for i in seg]\n"
   ]
  },
  {
   "cell_type": "code",
   "execution_count": 27,
   "id": "50193937",
   "metadata": {},
   "outputs": [
    {
     "data": {
      "text/plain": [
       "['https://www.instagram.com/record_portugal/',\n",
       " 'https://www.instagram.com/correiodamanhaoficial/',\n",
       " 'https://www.instagram.com/riyadhseason/',\n",
       " 'https://www.instagram.com/tysonfury/',\n",
       " 'https://www.instagram.com/stylebender/',\n",
       " 'https://www.instagram.com/garybrecka/',\n",
       " 'https://www.instagram.com/iamrafaeleao93/',\n",
       " 'https://www.instagram.com/padelathleticclub/',\n",
       " 'https://www.instagram.com/azimut_yachts/',\n",
       " 'https://www.instagram.com/manuel1234419/',\n",
       " 'https://www.instagram.com/otaviomonteiroo/',\n",
       " 'https://www.instagram.com/sadiomaneofficiel/',\n",
       " 'https://www.instagram.com/marcelo_brozovic/',\n",
       " 'https://www.instagram.com/a.alelewaai_46/',\n",
       " 'https://www.instagram.com/georginagio/',\n",
       " 'https://www.instagram.com/chrono24/',\n",
       " 'https://www.instagram.com/flaviamoreirarp/',\n",
       " 'https://www.instagram.com/ursu9_official/',\n",
       " 'https://www.instagram.com/kkiatlim/',\n",
       " 'https://www.instagram.com/kickoffbyzuju/',\n",
       " 'https://www.instagram.com/miguelpaixao7/',\n",
       " 'https://www.instagram.com/susanna_soeberg/',\n",
       " 'https://www.instagram.com/fabio11martins/',\n",
       " 'https://www.instagram.com/bujairiterrace/',\n",
       " 'https://www.instagram.com/rafanery.hrpz/',\n",
       " 'https://www.instagram.com/hubermanlab/',\n",
       " 'https://www.instagram.com/insparya_italy/',\n",
       " 'https://www.instagram.com/gerson_rodrigues_11/',\n",
       " 'https://www.instagram.com/bernardorsousa/',\n",
       " 'https://www.instagram.com/eminem/',\n",
       " 'https://www.instagram.com/spl/',\n",
       " 'https://www.instagram.com/toto.restaurants/',\n",
       " 'https://www.instagram.com/thetoolsbook/',\n",
       " 'https://www.instagram.com/rauwalejandro/',\n",
       " 'https://www.instagram.com/francisngannou/',\n",
       " 'https://www.instagram.com/sultan_alghannam/',\n",
       " 'https://www.instagram.com/turkialalshik/',\n",
       " 'https://www.instagram.com/brunoralves2oficiall/',\n",
       " 'https://www.instagram.com/rodrygogoes/',\n",
       " 'https://www.instagram.com/hamad_al_mansour_20/',\n",
       " 'https://www.instagram.com/k.abdullah6_/',\n",
       " 'https://www.instagram.com/abdullah_mado3/',\n",
       " 'https://www.instagram.com/aboubakarvincent/',\n",
       " 'https://www.instagram.com/rudigarciaoff/',\n",
       " 'https://www.instagram.com/aboodeghareeb/',\n",
       " 'https://www.instagram.com/waleed_abdulllah1/',\n",
       " 'https://www.instagram.com/khaledghannam11/',\n",
       " 'https://www.instagram.com/sami.alnjai_14/']"
      ]
     },
     "execution_count": 27,
     "metadata": {},
     "output_type": "execute_result"
    }
   ],
   "source": [
    "seg\n"
   ]
  },
  {
   "cell_type": "code",
   "execution_count": 28,
   "id": "a515a8d2",
   "metadata": {},
   "outputs": [],
   "source": [
    "driver.maximize_window()"
   ]
  },
  {
   "cell_type": "code",
   "execution_count": 29,
   "id": "40f06695",
   "metadata": {},
   "outputs": [
    {
     "ename": "NoSuchWindowException",
     "evalue": "Message: no such window: target window already closed\nfrom unknown error: web view not found\n  (Session info: chrome=119.0.6045.160)\nStacktrace:\n\tGetHandleVerifier [0x00007FF7E63382B2+55298]\n\t(No symbol) [0x00007FF7E62A5E02]\n\t(No symbol) [0x00007FF7E61605AB]\n\t(No symbol) [0x00007FF7E6140038]\n\t(No symbol) [0x00007FF7E61C6BC7]\n\t(No symbol) [0x00007FF7E61DA15F]\n\t(No symbol) [0x00007FF7E61C1E83]\n\t(No symbol) [0x00007FF7E619670A]\n\t(No symbol) [0x00007FF7E6197964]\n\tGetHandleVerifier [0x00007FF7E66B0AAB+3694587]\n\tGetHandleVerifier [0x00007FF7E670728E+4048862]\n\tGetHandleVerifier [0x00007FF7E66FF173+4015811]\n\tGetHandleVerifier [0x00007FF7E63D47D6+695590]\n\t(No symbol) [0x00007FF7E62B0CE8]\n\t(No symbol) [0x00007FF7E62ACF34]\n\t(No symbol) [0x00007FF7E62AD062]\n\t(No symbol) [0x00007FF7E629D3A3]\n\tBaseThreadInitThunk [0x00007FFCD6F3257D+29]\n\tRtlUserThreadStart [0x00007FFCD906AA58+40]\n",
     "output_type": "error",
     "traceback": [
      "\u001b[1;31m---------------------------------------------------------------------------\u001b[0m",
      "\u001b[1;31mNoSuchWindowException\u001b[0m                     Traceback (most recent call last)",
      "Cell \u001b[1;32mIn[29], line 8\u001b[0m\n\u001b[0;32m      6\u001b[0m     \u001b[38;5;28;01mcontinue\u001b[39;00m\n\u001b[0;32m      7\u001b[0m \u001b[38;5;28;01mfor\u001b[39;00m i \u001b[38;5;129;01min\u001b[39;00m seg:\n\u001b[1;32m----> 8\u001b[0m         \u001b[43mdriver\u001b[49m\u001b[38;5;241;43m.\u001b[39;49m\u001b[43mget\u001b[49m\u001b[43m(\u001b[49m\u001b[43mi\u001b[49m\u001b[43m)\u001b[49m\n\u001b[0;32m      9\u001b[0m         time\u001b[38;5;241m.\u001b[39msleep(\u001b[38;5;241m2\u001b[39m)\n\u001b[0;32m     10\u001b[0m         \u001b[38;5;28;01mtry\u001b[39;00m:\n",
      "File \u001b[1;32m~\\anaconda3\\lib\\site-packages\\selenium\\webdriver\\remote\\webdriver.py:449\u001b[0m, in \u001b[0;36mWebDriver.get\u001b[1;34m(self, url)\u001b[0m\n\u001b[0;32m    447\u001b[0m \u001b[38;5;28;01mdef\u001b[39;00m \u001b[38;5;21mget\u001b[39m(\u001b[38;5;28mself\u001b[39m, url: \u001b[38;5;28mstr\u001b[39m) \u001b[38;5;241m-\u001b[39m\u001b[38;5;241m>\u001b[39m \u001b[38;5;28;01mNone\u001b[39;00m:\n\u001b[0;32m    448\u001b[0m     \u001b[38;5;124;03m\"\"\"Loads a web page in the current browser session.\"\"\"\u001b[39;00m\n\u001b[1;32m--> 449\u001b[0m     \u001b[38;5;28;43mself\u001b[39;49m\u001b[38;5;241;43m.\u001b[39;49m\u001b[43mexecute\u001b[49m\u001b[43m(\u001b[49m\u001b[43mCommand\u001b[49m\u001b[38;5;241;43m.\u001b[39;49m\u001b[43mGET\u001b[49m\u001b[43m,\u001b[49m\u001b[43m \u001b[49m\u001b[43m{\u001b[49m\u001b[38;5;124;43m\"\u001b[39;49m\u001b[38;5;124;43murl\u001b[39;49m\u001b[38;5;124;43m\"\u001b[39;49m\u001b[43m:\u001b[49m\u001b[43m \u001b[49m\u001b[43murl\u001b[49m\u001b[43m}\u001b[49m\u001b[43m)\u001b[49m\n",
      "File \u001b[1;32m~\\anaconda3\\lib\\site-packages\\selenium\\webdriver\\remote\\webdriver.py:440\u001b[0m, in \u001b[0;36mWebDriver.execute\u001b[1;34m(self, driver_command, params)\u001b[0m\n\u001b[0;32m    438\u001b[0m response \u001b[38;5;241m=\u001b[39m \u001b[38;5;28mself\u001b[39m\u001b[38;5;241m.\u001b[39mcommand_executor\u001b[38;5;241m.\u001b[39mexecute(driver_command, params)\n\u001b[0;32m    439\u001b[0m \u001b[38;5;28;01mif\u001b[39;00m response:\n\u001b[1;32m--> 440\u001b[0m     \u001b[38;5;28;43mself\u001b[39;49m\u001b[38;5;241;43m.\u001b[39;49m\u001b[43merror_handler\u001b[49m\u001b[38;5;241;43m.\u001b[39;49m\u001b[43mcheck_response\u001b[49m\u001b[43m(\u001b[49m\u001b[43mresponse\u001b[49m\u001b[43m)\u001b[49m\n\u001b[0;32m    441\u001b[0m     response[\u001b[38;5;124m\"\u001b[39m\u001b[38;5;124mvalue\u001b[39m\u001b[38;5;124m\"\u001b[39m] \u001b[38;5;241m=\u001b[39m \u001b[38;5;28mself\u001b[39m\u001b[38;5;241m.\u001b[39m_unwrap_value(response\u001b[38;5;241m.\u001b[39mget(\u001b[38;5;124m\"\u001b[39m\u001b[38;5;124mvalue\u001b[39m\u001b[38;5;124m\"\u001b[39m, \u001b[38;5;28;01mNone\u001b[39;00m))\n\u001b[0;32m    442\u001b[0m     \u001b[38;5;28;01mreturn\u001b[39;00m response\n",
      "File \u001b[1;32m~\\anaconda3\\lib\\site-packages\\selenium\\webdriver\\remote\\errorhandler.py:245\u001b[0m, in \u001b[0;36mErrorHandler.check_response\u001b[1;34m(self, response)\u001b[0m\n\u001b[0;32m    243\u001b[0m         alert_text \u001b[38;5;241m=\u001b[39m value[\u001b[38;5;124m\"\u001b[39m\u001b[38;5;124malert\u001b[39m\u001b[38;5;124m\"\u001b[39m]\u001b[38;5;241m.\u001b[39mget(\u001b[38;5;124m\"\u001b[39m\u001b[38;5;124mtext\u001b[39m\u001b[38;5;124m\"\u001b[39m)\n\u001b[0;32m    244\u001b[0m     \u001b[38;5;28;01mraise\u001b[39;00m exception_class(message, screen, stacktrace, alert_text)  \u001b[38;5;66;03m# type: ignore[call-arg]  # mypy is not smart enough here\u001b[39;00m\n\u001b[1;32m--> 245\u001b[0m \u001b[38;5;28;01mraise\u001b[39;00m exception_class(message, screen, stacktrace)\n",
      "\u001b[1;31mNoSuchWindowException\u001b[0m: Message: no such window: target window already closed\nfrom unknown error: web view not found\n  (Session info: chrome=119.0.6045.160)\nStacktrace:\n\tGetHandleVerifier [0x00007FF7E63382B2+55298]\n\t(No symbol) [0x00007FF7E62A5E02]\n\t(No symbol) [0x00007FF7E61605AB]\n\t(No symbol) [0x00007FF7E6140038]\n\t(No symbol) [0x00007FF7E61C6BC7]\n\t(No symbol) [0x00007FF7E61DA15F]\n\t(No symbol) [0x00007FF7E61C1E83]\n\t(No symbol) [0x00007FF7E619670A]\n\t(No symbol) [0x00007FF7E6197964]\n\tGetHandleVerifier [0x00007FF7E66B0AAB+3694587]\n\tGetHandleVerifier [0x00007FF7E670728E+4048862]\n\tGetHandleVerifier [0x00007FF7E66FF173+4015811]\n\tGetHandleVerifier [0x00007FF7E63D47D6+695590]\n\t(No symbol) [0x00007FF7E62B0CE8]\n\t(No symbol) [0x00007FF7E62ACF34]\n\t(No symbol) [0x00007FF7E62AD062]\n\t(No symbol) [0x00007FF7E629D3A3]\n\tBaseThreadInitThunk [0x00007FFCD6F3257D+29]\n\tRtlUserThreadStart [0x00007FFCD906AA58+40]\n"
     ]
    }
   ],
   "source": [
    "while True:\n",
    "    seg = driver.find_elements(By.XPATH, \"//a[@class='x1i10hfl xjbqb8w x6umtig x1b1mbwd xaqea5y xav7gou x9f619 x1ypdohk xt0psk2 xe8uvvx xdj266r x11i5rnm xat24cr x1mh8g0r xexx8yu x4uap5 x18d9i69 xkhd6sd x16tdsg8 x1hl2dhg xggy1nq x1a2a7pz notranslate _a6hd']\")\n",
    "    try:\n",
    "        seg = [i.get_attribute('href') for i in seg]\n",
    "    except:\n",
    "        continue\n",
    "    for i in seg:\n",
    "            driver.get(i)\n",
    "            time.sleep(2)\n",
    "            try:\n",
    "                seguir = driver.find_element(By.XPATH, '//div[text()=\"Seguir\"]')\n",
    "                seguir = driver.find_element(By.XPATH, '//div[text()=\"Seguir\"]')\n",
    "                seguir.click()\n",
    "                time.sleep(2)\n",
    "            except:\n",
    "                continue\n"
   ]
  },
  {
   "cell_type": "code",
   "execution_count": null,
   "id": "59a70d03",
   "metadata": {},
   "outputs": [],
   "source": [
    "try:\n",
    "    seguir = driver.find_element_by_xpath('//div[text()=\"Seguir\"]')\n",
    "    seguir.click()\n",
    "    time.sleep(5)\n",
    "except:\n",
    "    pass"
   ]
  },
  {
   "cell_type": "code",
   "execution_count": null,
   "id": "7a5816f8",
   "metadata": {},
   "outputs": [],
   "source": [
    "followButton = driver.find_element_by_css_selector('button')\n",
    "if (followButton.text == 'Following'):\n",
    "      followButton.click()\n",
    "      time.sleep(2)\n"
   ]
  },
  {
   "cell_type": "code",
   "execution_count": null,
   "id": "ac6dd55b",
   "metadata": {},
   "outputs": [],
   "source": []
  },
  {
   "cell_type": "code",
   "execution_count": null,
   "id": "36a6f50c",
   "metadata": {},
   "outputs": [],
   "source": []
  },
  {
   "cell_type": "code",
   "execution_count": null,
   "id": "46adcd27",
   "metadata": {},
   "outputs": [],
   "source": []
  },
  {
   "cell_type": "code",
   "execution_count": null,
   "id": "d73cfdaa",
   "metadata": {},
   "outputs": [],
   "source": []
  },
  {
   "cell_type": "code",
   "execution_count": null,
   "id": "a8d5a1af",
   "metadata": {},
   "outputs": [],
   "source": []
  },
  {
   "cell_type": "code",
   "execution_count": null,
   "id": "e3d3b794",
   "metadata": {},
   "outputs": [],
   "source": []
  }
 ],
 "metadata": {
  "kernelspec": {
   "display_name": "firstEnv",
   "language": "python",
   "name": "firstenv"
  },
  "language_info": {
   "codemirror_mode": {
    "name": "ipython",
    "version": 3
   },
   "file_extension": ".py",
   "mimetype": "text/x-python",
   "name": "python",
   "nbconvert_exporter": "python",
   "pygments_lexer": "ipython3",
   "version": "3.10.9"
  }
 },
 "nbformat": 4,
 "nbformat_minor": 5
}
