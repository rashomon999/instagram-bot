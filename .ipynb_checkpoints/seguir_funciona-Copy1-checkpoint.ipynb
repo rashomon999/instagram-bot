{
 "cells": [
  {
   "cell_type": "code",
   "execution_count": 10,
   "id": "a0cb8096",
   "metadata": {},
   "outputs": [],
   "source": [
    "#control f para buscar en inspeccionar"
   ]
  },
  {
   "cell_type": "code",
   "execution_count": 11,
   "id": "4a2c716f",
   "metadata": {},
   "outputs": [],
   "source": [
    "import os\n",
    "from selenium import webdriver\n",
    "from selenium.common.exceptions import TimeoutException\n",
    "from selenium.webdriver.support.ui import WebDriverWait # available since 2.4.0\n",
    "import time\n",
    "from selenium.webdriver.common.by import By\n",
    "from webdriver_manager.chrome import ChromeDriverManager\n"
   ]
  },
  {
   "cell_type": "code",
   "execution_count": 12,
   "id": "afa346eb",
   "metadata": {},
   "outputs": [],
   "source": [
    "#pip install webdriver-manager\n",
    "ruta = os.getcwd()\n",
    "driver_path = '{}\\chromedriver.exe'.format(ruta)\n",
    "driver = webdriver.Chrome()\n",
    "driver.get('https://instagram.com')\n",
    "time.sleep(5)\n"
   ]
  },
  {
   "cell_type": "code",
   "execution_count": 13,
   "id": "2825e604",
   "metadata": {},
   "outputs": [
    {
     "name": "stdout",
     "output_type": "stream",
     "text": [
      "C:\\Users\\user\\Escritorio\\instagram_bot\n"
     ]
    }
   ],
   "source": [
    "print(os.getcwd())"
   ]
  },
  {
   "cell_type": "code",
   "execution_count": 14,
   "id": "bf262b41",
   "metadata": {},
   "outputs": [],
   "source": [
    "#ojo con la version del chromedriver:https://sites.google.com/chromium.org/driver/\n",
    "#decarga la mas actualizada"
   ]
  },
  {
   "cell_type": "code",
   "execution_count": 15,
   "id": "7c950afb",
   "metadata": {},
   "outputs": [],
   "source": [
    "#ruta = os.getcwd()\n",
    "#driver = webdriver.Chrome()\n",
    "#driver.get('https://instagram.com')\n",
    "#time.sleep(3)"
   ]
  },
  {
   "cell_type": "code",
   "execution_count": 16,
   "id": "2f4deb50",
   "metadata": {},
   "outputs": [],
   "source": [
    "driver.set_window_size(500, 1000)"
   ]
  },
  {
   "cell_type": "code",
   "execution_count": 17,
   "id": "34f2e277",
   "metadata": {},
   "outputs": [
    {
     "ename": "NameError",
     "evalue": "name 'us' is not defined",
     "output_type": "error",
     "traceback": [
      "\u001b[1;31m---------------------------------------------------------------------------\u001b[0m",
      "\u001b[1;31mNameError\u001b[0m                                 Traceback (most recent call last)",
      "Cell \u001b[1;32mIn[17], line 3\u001b[0m\n\u001b[0;32m      1\u001b[0m username\u001b[38;5;241m=\u001b[39m driver\u001b[38;5;241m.\u001b[39mfind_element(By\u001b[38;5;241m.\u001b[39mXPATH, \u001b[38;5;124m'\u001b[39m\u001b[38;5;124m//*[@id=\u001b[39m\u001b[38;5;124m\"\u001b[39m\u001b[38;5;124mloginForm\u001b[39m\u001b[38;5;124m\"\u001b[39m\u001b[38;5;124m]/div/div[1]/div/label/input\u001b[39m\u001b[38;5;124m'\u001b[39m)\n\u001b[0;32m      2\u001b[0m username\u001b[38;5;241m.\u001b[39mclick()\n\u001b[1;32m----> 3\u001b[0m username\u001b[38;5;241m.\u001b[39msend_keys(\u001b[43mus\u001b[49m)\n\u001b[0;32m      4\u001b[0m time\u001b[38;5;241m.\u001b[39msleep(\u001b[38;5;241m5\u001b[39m)\n",
      "\u001b[1;31mNameError\u001b[0m: name 'us' is not defined"
     ]
    }
   ],
   "source": [
    "username= driver.find_element(By.XPATH, '//*[@id=\"loginForm\"]/div/div[1]/div/label/input')\n",
    "username.click()\n",
    "username.send_keys(us)\n",
    "time.sleep(5)"
   ]
  },
  {
   "cell_type": "code",
   "execution_count": null,
   "id": "b8de6f8f",
   "metadata": {},
   "outputs": [],
   "source": [
    "username = driver.find_element(By.XPATH, '//*[@id=\"loginForm\"]/div/div[2]/div/label/input')\n",
    "username.click()\n",
    "username.send_keys(pas)\n",
    "time.sleep(7)\n"
   ]
  },
  {
   "cell_type": "code",
   "execution_count": null,
   "id": "6041a886",
   "metadata": {},
   "outputs": [],
   "source": [
    "try:\n",
    "    time.sleep(2)\n",
    "    login = driver.find_element(By.XPATH, '//*[@id=\"loginForm\"]/div/div[3]/button')\n",
    "    login.click()\n",
    "    time.sleep(5)\n",
    "except:\n",
    "    pass"
   ]
  },
  {
   "cell_type": "code",
   "execution_count": null,
   "id": "645db123",
   "metadata": {},
   "outputs": [],
   "source": [
    "try:\n",
    "    time.sleep(2)\n",
    "    buscado = driver.find_element(By.XPATH, '//*[@id=\"loginForm\"]/div/div[4]/button')\n",
    "    buscando.click()\n",
    "except:\n",
    "    pass\n",
    "\n"
   ]
  },
  {
   "cell_type": "code",
   "execution_count": null,
   "id": "5ee9fbb2",
   "metadata": {},
   "outputs": [],
   "source": [
    "try:\n",
    "    login = driver.find_element(By.XPATH,\"//button[@type='submit']\")\n",
    "    login.click()\n",
    "    time.sleep(5)\n",
    "except: \n",
    "    pass"
   ]
  },
  {
   "cell_type": "code",
   "execution_count": null,
   "id": "050e0076",
   "metadata": {},
   "outputs": [],
   "source": [
    "print(dir(By))"
   ]
  },
  {
   "cell_type": "code",
   "execution_count": null,
   "id": "6a38d78a",
   "metadata": {},
   "outputs": [],
   "source": [
    "try:\n",
    "    acti_n =  button = boton = driver.find_element(By.CLASS_NAME,\"x-1i10hfl\")\n",
    "    acti_n.click()\n",
    "    time.sleep(4)\n",
    "except:\n",
    "    pass\n"
   ]
  },
  {
   "cell_type": "code",
   "execution_count": null,
   "id": "2c53c7c9",
   "metadata": {},
   "outputs": [],
   "source": [
    "driver.get('https://www.instagram.com/cristiano/')"
   ]
  },
  {
   "cell_type": "code",
   "execution_count": null,
   "id": "8a34e2ba",
   "metadata": {},
   "outputs": [],
   "source": [
    "time.sleep(10)\n",
    "driver.find_element(By.XPATH, '//a[contains(@href, \"/following\")]').click()\n",
    "time.sleep(10)\n"
   ]
  },
  {
   "cell_type": "code",
   "execution_count": null,
   "id": "a147b006",
   "metadata": {},
   "outputs": [],
   "source": [
    "import time\n",
    "scroll_box = driver.find_element(By.XPATH, \"//div[@class='_aano']\")\n",
    "# Definir el tiempo que deseas que dure el bucle en segundos\n",
    "tiempo_deseado = 60  # Por ejemplo, 60 segundos (1 minuto)\n",
    "# Obtener el tiempo actual en segundos\n",
    "tiempo_inicial = time.time()\n",
    "\n",
    "while True:\n",
    "    time.sleep(2)\n",
    "    ht = driver.execute_script(\"\"\" \n",
    "    arguments[0].scrollTo(0, arguments[0].scrollHeight);\n",
    "    return arguments[0].scrollHeight; \"\"\", scroll_box)\n",
    "    time.sleep(5)\n",
    "    #verificar tiempo actual nuevamente\n",
    "    tiempo_actual = time.time()\n",
    "    # Verificar si ha pasado el tiempo deseado\n",
    "    if tiempo_actual - tiempo_inicial >= tiempo_deseado:\n",
    "        break\n",
    "    "
   ]
  },
  {
   "cell_type": "code",
   "execution_count": null,
   "id": "9195c8a4",
   "metadata": {},
   "outputs": [],
   "source": [
    "seg = driver.find_elements(By.XPATH,\"//a[@class='x1i10hfl xjbqb8w x6umtig x1b1mbwd xaqea5y xav7gou x9f619 x1ypdohk xt0psk2 xe8uvvx xdj266r x11i5rnm xat24cr x1mh8g0r xexx8yu x4uap5 x18d9i69 xkhd6sd x16tdsg8 x1hl2dhg xggy1nq x1a2a7pz notranslate _a6hd']\")"
   ]
  },
  {
   "cell_type": "code",
   "execution_count": null,
   "id": "67aa2143",
   "metadata": {},
   "outputs": [],
   "source": [
    "seg = [i.get_attribute('href') for i in seg]\n"
   ]
  },
  {
   "cell_type": "code",
   "execution_count": null,
   "id": "50193937",
   "metadata": {},
   "outputs": [],
   "source": [
    "seg\n"
   ]
  },
  {
   "cell_type": "code",
   "execution_count": null,
   "id": "a515a8d2",
   "metadata": {},
   "outputs": [],
   "source": [
    "driver.maximize_window()"
   ]
  },
  {
   "cell_type": "code",
   "execution_count": null,
   "id": "40f06695",
   "metadata": {},
   "outputs": [],
   "source": [
    "while True:\n",
    "    seg = driver.find_elements(By.XPATH, \"//a[@class='x1i10hfl xjbqb8w x6umtig x1b1mbwd xaqea5y xav7gou x9f619 x1ypdohk xt0psk2 xe8uvvx xdj266r x11i5rnm xat24cr x1mh8g0r xexx8yu x4uap5 x18d9i69 xkhd6sd x16tdsg8 x1hl2dhg xggy1nq x1a2a7pz notranslate _a6hd']\")\n",
    "    try:\n",
    "        seg = [i.get_attribute('href') for i in seg]\n",
    "    except:\n",
    "        continue\n",
    "    for i in seg:\n",
    "            driver.get(i)\n",
    "            time.sleep(2)\n",
    "            try:\n",
    "                seguir = driver.find_element(By.XPATH, '//div[text()=\"Seguir\"]')\n",
    "                seguir = driver.find_element(By.XPATH, '//div[text()=\"Seguir\"]')\n",
    "                seguir.click()\n",
    "                time.sleep(2)\n",
    "            except:\n",
    "                continue\n"
   ]
  },
  {
   "cell_type": "code",
   "execution_count": null,
   "id": "59a70d03",
   "metadata": {},
   "outputs": [],
   "source": [
    "try:\n",
    "    seguir = driver.find_element_by_xpath('//div[text()=\"Seguir\"]')\n",
    "    seguir.click()\n",
    "    time.sleep(5)\n",
    "except:\n",
    "    pass"
   ]
  },
  {
   "cell_type": "code",
   "execution_count": null,
   "id": "7a5816f8",
   "metadata": {},
   "outputs": [],
   "source": [
    "followButton = driver.find_element_by_css_selector('button')\n",
    "if (followButton.text == 'Following'):\n",
    "      followButton.click()\n",
    "      time.sleep(2)\n"
   ]
  },
  {
   "cell_type": "code",
   "execution_count": null,
   "id": "ac6dd55b",
   "metadata": {},
   "outputs": [],
   "source": []
  },
  {
   "cell_type": "code",
   "execution_count": null,
   "id": "36a6f50c",
   "metadata": {},
   "outputs": [],
   "source": []
  },
  {
   "cell_type": "code",
   "execution_count": null,
   "id": "46adcd27",
   "metadata": {},
   "outputs": [],
   "source": []
  },
  {
   "cell_type": "code",
   "execution_count": null,
   "id": "d73cfdaa",
   "metadata": {},
   "outputs": [],
   "source": []
  },
  {
   "cell_type": "code",
   "execution_count": null,
   "id": "a8d5a1af",
   "metadata": {},
   "outputs": [],
   "source": []
  },
  {
   "cell_type": "code",
   "execution_count": null,
   "id": "e3d3b794",
   "metadata": {},
   "outputs": [],
   "source": []
  }
 ],
 "metadata": {
  "kernelspec": {
   "display_name": "firstEnv",
   "language": "python",
   "name": "firstenv"
  },
  "language_info": {
   "codemirror_mode": {
    "name": "ipython",
    "version": 3
   },
   "file_extension": ".py",
   "mimetype": "text/x-python",
   "name": "python",
   "nbconvert_exporter": "python",
   "pygments_lexer": "ipython3",
   "version": "3.10.9"
  }
 },
 "nbformat": 4,
 "nbformat_minor": 5
}
