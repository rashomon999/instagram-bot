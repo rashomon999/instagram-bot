{
 "cells": [
  {
   "cell_type": "code",
   "execution_count": 53,
   "id": "8261a0b5",
   "metadata": {},
   "outputs": [],
   "source": [
    "#control f para buscar en inspeccionar"
   ]
  },
  {
   "cell_type": "code",
   "execution_count": 54,
   "id": "ddce3b6c",
   "metadata": {},
   "outputs": [],
   "source": [
    "#https://www.youtube.com/watch?v=q-Uq9EURoCg&ab_channel=RoCode"
   ]
  },
  {
   "cell_type": "code",
   "execution_count": 85,
   "id": "ea5a76be",
   "metadata": {},
   "outputs": [],
   "source": [
    "import os\n",
    "from selenium import webdriver\n",
    "from selenium.common.exceptions import TimeoutException\n",
    "from selenium.webdriver.support.ui import WebDriverWait # available since 2.4.0\n",
    "import time\n",
    "from selenium.webdriver.common.by import By\n",
    "from selenium.webdriver.common.keys import Keys"
   ]
  },
  {
   "cell_type": "code",
   "execution_count": 86,
   "id": "afa346eb",
   "metadata": {},
   "outputs": [],
   "source": [
    "f = open('credenciales.txt','r')\n",
    "us = f.readline().strip()\n",
    "pas = f.readline().strip()\n",
    "\n"
   ]
  },
  {
   "cell_type": "code",
   "execution_count": 87,
   "id": "7c950afb",
   "metadata": {},
   "outputs": [],
   "source": [
    "ruta = os.getcwd()\n",
    "driver_path = '{}\\chromedriver.exe'.format(ruta)\n",
    "driver = webdriver.Chrome()\n",
    "driver.get('https://instagram.com')\n",
    "time.sleep(2)"
   ]
  },
  {
   "cell_type": "code",
   "execution_count": 88,
   "id": "94606f3e",
   "metadata": {},
   "outputs": [
    {
     "name": "stdout",
     "output_type": "stream",
     "text": [
      "C:\\Users\\user\\curso\\chromedriver.exe\n"
     ]
    }
   ],
   "source": [
    "print(driver_path)"
   ]
  },
  {
   "cell_type": "code",
   "execution_count": 89,
   "id": "2f4deb50",
   "metadata": {},
   "outputs": [],
   "source": [
    "driver.set_window_size(500, 1000)"
   ]
  },
  {
   "cell_type": "code",
   "execution_count": 90,
   "id": "22d63800",
   "metadata": {},
   "outputs": [],
   "source": [
    "username= driver.find_element(By.XPATH, \"//*[@id='loginForm']/div/div[1]/div/label/input \")\n",
    "username.click()\n",
    "username.send_keys(us)\n",
    "time.sleep(5)"
   ]
  },
  {
   "cell_type": "code",
   "execution_count": 91,
   "id": "b8de6f8f",
   "metadata": {},
   "outputs": [],
   "source": [
    "username = driver.find_element(By.XPATH, '//*[@id=\"loginForm\"]/div/div[2]/div/label/input')\n",
    "username.click()\n",
    "username.send_keys(pas)\n",
    "time.sleep(5)"
   ]
  },
  {
   "cell_type": "code",
   "execution_count": 92,
   "id": "b7fe4cda",
   "metadata": {},
   "outputs": [],
   "source": [
    "login = driver.find_element(By.XPATH, '//*[@id=\"loginForm\"]/div/div[3]/button')\n",
    "login.click()\n",
    "time.sleep(5)\n"
   ]
  },
  {
   "cell_type": "code",
   "execution_count": 93,
   "id": "7033796a",
   "metadata": {},
   "outputs": [],
   "source": [
    "driver.get('https://www.instagram.com/caliescalioficial/?hl=es-la')"
   ]
  },
  {
   "cell_type": "code",
   "execution_count": 94,
   "id": "da7bef14",
   "metadata": {},
   "outputs": [],
   "source": [
    "driver.find_element(By.XPATH, \"//a[contains(@href, '/following')]\").click()\n",
    "time.sleep(4)\n"
   ]
  },
  {
   "cell_type": "code",
   "execution_count": 95,
   "id": "5a34b7d0",
   "metadata": {},
   "outputs": [],
   "source": [
    "scroll_box  = driver.find_element(By.XPATH, \"//div[@class='_aano']\")\n",
    "time.sleep(5)\n",
    "last_ht, ht = 0, 1\n",
    "while last_ht != ht:\n",
    "    last_ht = ht\n",
    "    time.sleep(2)\n",
    "    ht = driver.execute_script(\"\"\" \n",
    "    arguments[0].scrollTo(0, arguments[0].scrollHeight);\n",
    "    return arguments[0].scrollHeight; \"\"\", scroll_box)\n"
   ]
  },
  {
   "cell_type": "code",
   "execution_count": 96,
   "id": "12a36ab3",
   "metadata": {},
   "outputs": [],
   "source": [
    "seg = driver.find_elements(By.XPATH, \"//a[@class='x1i10hfl xjbqb8w x6umtig x1b1mbwd xaqea5y xav7gou x9f619 x1ypdohk xt0psk2 xe8uvvx xdj266r x11i5rnm xat24cr x1mh8g0r xexx8yu x4uap5 x18d9i69 xkhd6sd x16tdsg8 x1hl2dhg xggy1nq x1a2a7pz notranslate _a6hd']\")"
   ]
  },
  {
   "cell_type": "code",
   "execution_count": 97,
   "id": "21f6880e",
   "metadata": {},
   "outputs": [],
   "source": [
    "seg = [i.get_attribute('href') for i in seg]\n"
   ]
  },
  {
   "cell_type": "code",
   "execution_count": 98,
   "id": "752950ee",
   "metadata": {},
   "outputs": [],
   "source": [
    "driver.get(seg[-2])\n",
    "time.sleep(6)"
   ]
  },
  {
   "cell_type": "code",
   "execution_count": 99,
   "id": "eb9b3e65",
   "metadata": {},
   "outputs": [
    {
     "data": {
      "text/plain": [
       "['https://www.instagram.com/vicentico_b13/?hl=es-la',\n",
       " 'https://www.instagram.com/pennylove_ig/?hl=es-la',\n",
       " 'https://www.instagram.com/valen_tinanails/?hl=es-la',\n",
       " 'https://www.instagram.com/ubicategpscol/?hl=es-la',\n",
       " 'https://www.instagram.com/ubicategps/?hl=es-la',\n",
       " 'https://www.instagram.com/revistasemana/?hl=es-la',\n",
       " 'https://www.instagram.com/nathaliaramirezm/?hl=es-la',\n",
       " 'https://www.instagram.com/gpsecolombia/?hl=es-la',\n",
       " 'https://www.instagram.com/carlosdiagoa/?hl=es-la',\n",
       " 'https://www.instagram.com/creators/?hl=es-la',\n",
       " 'https://www.instagram.com/kellytrullo/?hl=es-la',\n",
       " 'https://www.instagram.com/ntn24/?hl=es-la',\n",
       " 'https://www.instagram.com/redmasnoticias/?hl=es-la',\n",
       " 'https://www.instagram.com/lafmoficial/?hl=es-la',\n",
       " 'https://www.instagram.com/enteratecolombiaoficial/?hl=es-la',\n",
       " 'https://www.instagram.com/eltiempo/?hl=es-la',\n",
       " 'https://www.instagram.com/rcnradiocolombia/?hl=es-la',\n",
       " 'https://www.instagram.com/bluradio/?hl=es-la',\n",
       " 'https://www.instagram.com/noticiasrcn/?hl=es-la']"
      ]
     },
     "execution_count": 99,
     "metadata": {},
     "output_type": "execute_result"
    }
   ],
   "source": [
    "seg"
   ]
  },
  {
   "cell_type": "code",
   "execution_count": 100,
   "id": "ab0b9e62",
   "metadata": {},
   "outputs": [],
   "source": [
    "driver.set_window_size(500, 1000)"
   ]
  },
  {
   "cell_type": "code",
   "execution_count": 101,
   "id": "a0cf7744",
   "metadata": {},
   "outputs": [],
   "source": [
    "#fotos no arrojara todos los elementos de cada foto cargada en ese momento, todos los div son una foto, \n",
    "#y debajo hay una etiqueta a que contiene el href de esa foto, es decir, con conseguir el div,a de una foto obtenemos\n",
    "#las de las otras cargadas en ese momento."
   ]
  },
  {
   "cell_type": "code",
   "execution_count": 102,
   "id": "b3939e12",
   "metadata": {},
   "outputs": [
    {
     "data": {
      "text/plain": [
       "[<selenium.webdriver.remote.webelement.WebElement (session=\"194b9a55391413b926719dccb98142f3\", element=\"3D51F9C52F12E9952DABE92B28B5A71F_element_78\")>,\n",
       " <selenium.webdriver.remote.webelement.WebElement (session=\"194b9a55391413b926719dccb98142f3\", element=\"3D51F9C52F12E9952DABE92B28B5A71F_element_79\")>,\n",
       " <selenium.webdriver.remote.webelement.WebElement (session=\"194b9a55391413b926719dccb98142f3\", element=\"3D51F9C52F12E9952DABE92B28B5A71F_element_80\")>,\n",
       " <selenium.webdriver.remote.webelement.WebElement (session=\"194b9a55391413b926719dccb98142f3\", element=\"3D51F9C52F12E9952DABE92B28B5A71F_element_81\")>,\n",
       " <selenium.webdriver.remote.webelement.WebElement (session=\"194b9a55391413b926719dccb98142f3\", element=\"3D51F9C52F12E9952DABE92B28B5A71F_element_82\")>,\n",
       " <selenium.webdriver.remote.webelement.WebElement (session=\"194b9a55391413b926719dccb98142f3\", element=\"3D51F9C52F12E9952DABE92B28B5A71F_element_83\")>,\n",
       " <selenium.webdriver.remote.webelement.WebElement (session=\"194b9a55391413b926719dccb98142f3\", element=\"3D51F9C52F12E9952DABE92B28B5A71F_element_84\")>,\n",
       " <selenium.webdriver.remote.webelement.WebElement (session=\"194b9a55391413b926719dccb98142f3\", element=\"3D51F9C52F12E9952DABE92B28B5A71F_element_85\")>,\n",
       " <selenium.webdriver.remote.webelement.WebElement (session=\"194b9a55391413b926719dccb98142f3\", element=\"3D51F9C52F12E9952DABE92B28B5A71F_element_86\")>,\n",
       " <selenium.webdriver.remote.webelement.WebElement (session=\"194b9a55391413b926719dccb98142f3\", element=\"3D51F9C52F12E9952DABE92B28B5A71F_element_87\")>,\n",
       " <selenium.webdriver.remote.webelement.WebElement (session=\"194b9a55391413b926719dccb98142f3\", element=\"3D51F9C52F12E9952DABE92B28B5A71F_element_88\")>,\n",
       " <selenium.webdriver.remote.webelement.WebElement (session=\"194b9a55391413b926719dccb98142f3\", element=\"3D51F9C52F12E9952DABE92B28B5A71F_element_89\")>]"
      ]
     },
     "execution_count": 102,
     "metadata": {},
     "output_type": "execute_result"
    }
   ],
   "source": [
    "fotos = driver.find_elements(By.XPATH, '//div[@class= \"_aabd _aa8k x2pgyrj xfllauq xo2y696\"]//a')\n",
    "fotos"
   ]
  },
  {
   "cell_type": "code",
   "execution_count": 103,
   "id": "7f154326",
   "metadata": {},
   "outputs": [],
   "source": [
    "fotos = driver.find_elements(By.XPATH, '//div[@class= \"_aabd _aa8k x2pgyrj xfllauq xo2y696\"]//a')\n",
    "fotos[1].get_attribute('href')\n",
    "driver.find_elements(By.XPATH, \"//a[contains(@href, '/a')]\")\n",
    "publi =driver.find_element(By.XPATH, '//ul[@class=\"x5ur3kl x13fuv20 x178xt8z x78zum5 x1q0g3np x1l1ennw xz9dl7a x4uap5 xsag5q8 xkhd6sd\"]//li[1]//span//span').text\n",
    "time.sleep(5)"
   ]
  },
  {
   "cell_type": "code",
   "execution_count": 104,
   "id": "8c3eafa3",
   "metadata": {},
   "outputs": [],
   "source": [
    "#encontrar el ul que consigue el numero de publicaciones, seguidores y seguidos (la class de este ul es la que\n",
    "#copiamos), luego se optiene el primer li que es el de publicaciones y luego el span que seria el numero en si."
   ]
  },
  {
   "cell_type": "code",
   "execution_count": 105,
   "id": "1cd57435",
   "metadata": {},
   "outputs": [
    {
     "data": {
      "text/plain": [
       "'22.418'"
      ]
     },
     "execution_count": 105,
     "metadata": {},
     "output_type": "execute_result"
    }
   ],
   "source": [
    "fotos = []\n",
    "publi\n"
   ]
  },
  {
   "cell_type": "code",
   "execution_count": 106,
   "id": "42deb424",
   "metadata": {},
   "outputs": [],
   "source": [
    "from selenium.webdriver.common.keys import Keys"
   ]
  },
  {
   "cell_type": "code",
   "execution_count": 107,
   "id": "1f906059",
   "metadata": {},
   "outputs": [
    {
     "name": "stdout",
     "output_type": "stream",
     "text": [
      "12\n"
     ]
    },
    {
     "ename": "ValueError",
     "evalue": "invalid literal for int() with base 10: '22.418'",
     "output_type": "error",
     "traceback": [
      "\u001b[1;31m---------------------------------------------------------------------------\u001b[0m",
      "\u001b[1;31mValueError\u001b[0m                                Traceback (most recent call last)",
      "Cell \u001b[1;32mIn[107], line 13\u001b[0m\n\u001b[0;32m     11\u001b[0m         fotos\u001b[38;5;241m.\u001b[39mappend(i)\n\u001b[0;32m     12\u001b[0m \u001b[38;5;28mprint\u001b[39m(\u001b[38;5;28mlen\u001b[39m(fotos))\n\u001b[1;32m---> 13\u001b[0m \u001b[38;5;28;01mif\u001b[39;00m \u001b[38;5;28mlen\u001b[39m(fotos) \u001b[38;5;241m==\u001b[39m \u001b[38;5;28;43mint\u001b[39;49m\u001b[43m(\u001b[49m\u001b[43mpubli\u001b[49m\u001b[43m)\u001b[49m:\n\u001b[0;32m     14\u001b[0m     \u001b[38;5;28;01mbreak\u001b[39;00m\n",
      "\u001b[1;31mValueError\u001b[0m: invalid literal for int() with base 10: '22.418'"
     ]
    }
   ],
   "source": [
    "while True:\n",
    "    driver.execute_script(\"\"\"window.scrollTo(0,document.body.scrollHeight)\"\"\")\n",
    "    time.sleep(2)\n",
    "    f = driver.find_elements(By.XPATH, '//div[@class= \"_aabd _aa8k x2pgyrj xfllauq xo2y696\"]//a')\n",
    "    try:\n",
    "        f = [i.get_attribute('href') for i in f]\n",
    "    except:\n",
    "        continue\n",
    "    for i in f:\n",
    "        if i not in fotos:\n",
    "            fotos.append(i)\n",
    "    print(len(fotos))\n",
    "    if len(fotos) == int(publi):\n",
    "        break\n"
   ]
  },
  {
   "cell_type": "code",
   "execution_count": 108,
   "id": "e1ed077a",
   "metadata": {},
   "outputs": [
    {
     "data": {
      "text/plain": [
       "['https://www.instagram.com/p/C0AYqbbR5Px/?hl=es-la',\n",
       " 'https://www.instagram.com/p/Cz-KQ-QA3Nq/?hl=es-la',\n",
       " 'https://www.instagram.com/p/CzpDFXDgJu0/?hl=es-la',\n",
       " 'https://www.instagram.com/p/C0DIByQREHT/?hl=es-la',\n",
       " 'https://www.instagram.com/p/C0DGRt3uSYI/?hl=es-la',\n",
       " 'https://www.instagram.com/p/C0DFf-mRy1v/?hl=es-la',\n",
       " 'https://www.instagram.com/p/C0C9gFZLhB6/?hl=es-la',\n",
       " 'https://www.instagram.com/p/C0C6YhERhGo/?hl=es-la',\n",
       " 'https://www.instagram.com/p/C0CilpjMfpP/?hl=es-la',\n",
       " 'https://www.instagram.com/p/C0CeI4bR5r2/?hl=es-la',\n",
       " 'https://www.instagram.com/p/C0COJwYpKTn/?hl=es-la',\n",
       " 'https://www.instagram.com/p/C0CKfWKJFt3/?hl=es-la']"
      ]
     },
     "execution_count": 108,
     "metadata": {},
     "output_type": "execute_result"
    }
   ],
   "source": [
    "fotos\n"
   ]
  },
  {
   "cell_type": "code",
   "execution_count": 109,
   "id": "e5a841d6",
   "metadata": {},
   "outputs": [],
   "source": [
    "comentarios = WebDriverWait(driver,10)"
   ]
  },
  {
   "cell_type": "code",
   "execution_count": 120,
   "id": "91637be6",
   "metadata": {},
   "outputs": [],
   "source": [
    "driver.set_window_size(800, 800)"
   ]
  },
  {
   "cell_type": "code",
   "execution_count": null,
   "id": "7079d63b",
   "metadata": {},
   "outputs": [],
   "source": [
    "#lo importante es encontrar la ruta de (form class='')"
   ]
  },
  {
   "cell_type": "code",
   "execution_count": 116,
   "id": "88168e65",
   "metadata": {},
   "outputs": [],
   "source": [
    "#escribir = driver.find_element(By.XPATH, '//form[@class=\"_aidk _aidl _ak6u\"]/div/textarea').click()"
   ]
  },
  {
   "cell_type": "code",
   "execution_count": null,
   "id": "c04e12e6",
   "metadata": {},
   "outputs": [],
   "source": [
    "comment = driver.find_element(By.XPATH, '//form[@class=\"_aidk _aidl _ak6u\"]/div/textarea[@placeholder=\"Añade un comentario...\"]')"
   ]
  },
  {
   "cell_type": "code",
   "execution_count": 136,
   "id": "aad52e2c",
   "metadata": {},
   "outputs": [
    {
     "ename": "NoSuchElementException",
     "evalue": "Message: no such element: Unable to locate element: {\"method\":\"xpath\",\"selector\":\"//form[@class=\"_aidk _aidl _ak6u\"]/div/textarea\"}\n  (Session info: chrome=119.0.6045.160)\nStacktrace:\n\tGetHandleVerifier [0x00007FF7E63382B2+55298]\n\t(No symbol) [0x00007FF7E62A5E02]\n\t(No symbol) [0x00007FF7E61605AB]\n\t(No symbol) [0x00007FF7E61A175C]\n\t(No symbol) [0x00007FF7E61A18DC]\n\t(No symbol) [0x00007FF7E61DCBC7]\n\t(No symbol) [0x00007FF7E61C20EF]\n\t(No symbol) [0x00007FF7E61DAAA4]\n\t(No symbol) [0x00007FF7E61C1E83]\n\t(No symbol) [0x00007FF7E619670A]\n\t(No symbol) [0x00007FF7E6197964]\n\tGetHandleVerifier [0x00007FF7E66B0AAB+3694587]\n\tGetHandleVerifier [0x00007FF7E670728E+4048862]\n\tGetHandleVerifier [0x00007FF7E66FF173+4015811]\n\tGetHandleVerifier [0x00007FF7E63D47D6+695590]\n\t(No symbol) [0x00007FF7E62B0CE8]\n\t(No symbol) [0x00007FF7E62ACF34]\n\t(No symbol) [0x00007FF7E62AD062]\n\t(No symbol) [0x00007FF7E629D3A3]\n\tBaseThreadInitThunk [0x00007FFCD6F3257D+29]\n\tRtlUserThreadStart [0x00007FFCD906AA58+40]\n",
     "output_type": "error",
     "traceback": [
      "\u001b[1;31m---------------------------------------------------------------------------\u001b[0m",
      "\u001b[1;31mNoSuchElementException\u001b[0m                    Traceback (most recent call last)",
      "Cell \u001b[1;32mIn[136], line 1\u001b[0m\n\u001b[1;32m----> 1\u001b[0m escribir \u001b[38;5;241m=\u001b[39m \u001b[43mdriver\u001b[49m\u001b[38;5;241;43m.\u001b[39;49m\u001b[43mfind_element\u001b[49m\u001b[43m(\u001b[49m\u001b[43mBy\u001b[49m\u001b[38;5;241;43m.\u001b[39;49m\u001b[43mXPATH\u001b[49m\u001b[43m,\u001b[49m\u001b[43m \u001b[49m\u001b[38;5;124;43m'\u001b[39;49m\u001b[38;5;124;43m//form[@class=\u001b[39;49m\u001b[38;5;124;43m\"\u001b[39;49m\u001b[38;5;124;43m_aidk _aidl _ak6u\u001b[39;49m\u001b[38;5;124;43m\"\u001b[39;49m\u001b[38;5;124;43m]/div/textarea\u001b[39;49m\u001b[38;5;124;43m'\u001b[39;49m\u001b[43m)\u001b[49m\u001b[38;5;241m.\u001b[39msend_keys(\u001b[38;5;124m'\u001b[39m\u001b[38;5;124minteresante\u001b[39m\u001b[38;5;124m'\u001b[39m)\n",
      "File \u001b[1;32m~\\anaconda3\\lib\\site-packages\\selenium\\webdriver\\remote\\webdriver.py:831\u001b[0m, in \u001b[0;36mWebDriver.find_element\u001b[1;34m(self, by, value)\u001b[0m\n\u001b[0;32m    828\u001b[0m     by \u001b[38;5;241m=\u001b[39m By\u001b[38;5;241m.\u001b[39mCSS_SELECTOR\n\u001b[0;32m    829\u001b[0m     value \u001b[38;5;241m=\u001b[39m \u001b[38;5;124mf\u001b[39m\u001b[38;5;124m'\u001b[39m\u001b[38;5;124m[name=\u001b[39m\u001b[38;5;124m\"\u001b[39m\u001b[38;5;132;01m{\u001b[39;00mvalue\u001b[38;5;132;01m}\u001b[39;00m\u001b[38;5;124m\"\u001b[39m\u001b[38;5;124m]\u001b[39m\u001b[38;5;124m'\u001b[39m\n\u001b[1;32m--> 831\u001b[0m \u001b[38;5;28;01mreturn\u001b[39;00m \u001b[38;5;28;43mself\u001b[39;49m\u001b[38;5;241;43m.\u001b[39;49m\u001b[43mexecute\u001b[49m\u001b[43m(\u001b[49m\u001b[43mCommand\u001b[49m\u001b[38;5;241;43m.\u001b[39;49m\u001b[43mFIND_ELEMENT\u001b[49m\u001b[43m,\u001b[49m\u001b[43m \u001b[49m\u001b[43m{\u001b[49m\u001b[38;5;124;43m\"\u001b[39;49m\u001b[38;5;124;43musing\u001b[39;49m\u001b[38;5;124;43m\"\u001b[39;49m\u001b[43m:\u001b[49m\u001b[43m \u001b[49m\u001b[43mby\u001b[49m\u001b[43m,\u001b[49m\u001b[43m \u001b[49m\u001b[38;5;124;43m\"\u001b[39;49m\u001b[38;5;124;43mvalue\u001b[39;49m\u001b[38;5;124;43m\"\u001b[39;49m\u001b[43m:\u001b[49m\u001b[43m \u001b[49m\u001b[43mvalue\u001b[49m\u001b[43m}\u001b[49m\u001b[43m)\u001b[49m[\u001b[38;5;124m\"\u001b[39m\u001b[38;5;124mvalue\u001b[39m\u001b[38;5;124m\"\u001b[39m]\n",
      "File \u001b[1;32m~\\anaconda3\\lib\\site-packages\\selenium\\webdriver\\remote\\webdriver.py:440\u001b[0m, in \u001b[0;36mWebDriver.execute\u001b[1;34m(self, driver_command, params)\u001b[0m\n\u001b[0;32m    438\u001b[0m response \u001b[38;5;241m=\u001b[39m \u001b[38;5;28mself\u001b[39m\u001b[38;5;241m.\u001b[39mcommand_executor\u001b[38;5;241m.\u001b[39mexecute(driver_command, params)\n\u001b[0;32m    439\u001b[0m \u001b[38;5;28;01mif\u001b[39;00m response:\n\u001b[1;32m--> 440\u001b[0m     \u001b[38;5;28;43mself\u001b[39;49m\u001b[38;5;241;43m.\u001b[39;49m\u001b[43merror_handler\u001b[49m\u001b[38;5;241;43m.\u001b[39;49m\u001b[43mcheck_response\u001b[49m\u001b[43m(\u001b[49m\u001b[43mresponse\u001b[49m\u001b[43m)\u001b[49m\n\u001b[0;32m    441\u001b[0m     response[\u001b[38;5;124m\"\u001b[39m\u001b[38;5;124mvalue\u001b[39m\u001b[38;5;124m\"\u001b[39m] \u001b[38;5;241m=\u001b[39m \u001b[38;5;28mself\u001b[39m\u001b[38;5;241m.\u001b[39m_unwrap_value(response\u001b[38;5;241m.\u001b[39mget(\u001b[38;5;124m\"\u001b[39m\u001b[38;5;124mvalue\u001b[39m\u001b[38;5;124m\"\u001b[39m, \u001b[38;5;28;01mNone\u001b[39;00m))\n\u001b[0;32m    442\u001b[0m     \u001b[38;5;28;01mreturn\u001b[39;00m response\n",
      "File \u001b[1;32m~\\anaconda3\\lib\\site-packages\\selenium\\webdriver\\remote\\errorhandler.py:245\u001b[0m, in \u001b[0;36mErrorHandler.check_response\u001b[1;34m(self, response)\u001b[0m\n\u001b[0;32m    243\u001b[0m         alert_text \u001b[38;5;241m=\u001b[39m value[\u001b[38;5;124m\"\u001b[39m\u001b[38;5;124malert\u001b[39m\u001b[38;5;124m\"\u001b[39m]\u001b[38;5;241m.\u001b[39mget(\u001b[38;5;124m\"\u001b[39m\u001b[38;5;124mtext\u001b[39m\u001b[38;5;124m\"\u001b[39m)\n\u001b[0;32m    244\u001b[0m     \u001b[38;5;28;01mraise\u001b[39;00m exception_class(message, screen, stacktrace, alert_text)  \u001b[38;5;66;03m# type: ignore[call-arg]  # mypy is not smart enough here\u001b[39;00m\n\u001b[1;32m--> 245\u001b[0m \u001b[38;5;28;01mraise\u001b[39;00m exception_class(message, screen, stacktrace)\n",
      "\u001b[1;31mNoSuchElementException\u001b[0m: Message: no such element: Unable to locate element: {\"method\":\"xpath\",\"selector\":\"//form[@class=\"_aidk _aidl _ak6u\"]/div/textarea\"}\n  (Session info: chrome=119.0.6045.160)\nStacktrace:\n\tGetHandleVerifier [0x00007FF7E63382B2+55298]\n\t(No symbol) [0x00007FF7E62A5E02]\n\t(No symbol) [0x00007FF7E61605AB]\n\t(No symbol) [0x00007FF7E61A175C]\n\t(No symbol) [0x00007FF7E61A18DC]\n\t(No symbol) [0x00007FF7E61DCBC7]\n\t(No symbol) [0x00007FF7E61C20EF]\n\t(No symbol) [0x00007FF7E61DAAA4]\n\t(No symbol) [0x00007FF7E61C1E83]\n\t(No symbol) [0x00007FF7E619670A]\n\t(No symbol) [0x00007FF7E6197964]\n\tGetHandleVerifier [0x00007FF7E66B0AAB+3694587]\n\tGetHandleVerifier [0x00007FF7E670728E+4048862]\n\tGetHandleVerifier [0x00007FF7E66FF173+4015811]\n\tGetHandleVerifier [0x00007FF7E63D47D6+695590]\n\t(No symbol) [0x00007FF7E62B0CE8]\n\t(No symbol) [0x00007FF7E62ACF34]\n\t(No symbol) [0x00007FF7E62AD062]\n\t(No symbol) [0x00007FF7E629D3A3]\n\tBaseThreadInitThunk [0x00007FFCD6F3257D+29]\n\tRtlUserThreadStart [0x00007FFCD906AA58+40]\n"
     ]
    }
   ],
   "source": [
    "escribir = driver.find_element(By.XPATH, '//form[@class=\"_aidk _aidl _ak6u\"]/div/textarea').send_keys('interesante')\n"
   ]
  },
  {
   "cell_type": "code",
   "execution_count": 142,
   "id": "e67020ec",
   "metadata": {},
   "outputs": [],
   "source": [
    "#estar atento porque siempre para realizar la busquedad tiene que estar el publicar activado( tiene que estar escrito algo)\n",
    "#el div \"_akhn\" se divide en dos: uno de emojis que contiene tambien la parte pa escribir y el de publicar.\n",
    "#escribir = driver.find_element(By.XPATH, '//div[@class=\"_akhn\"]/div[2]').click()"
   ]
  },
  {
   "cell_type": "code",
   "execution_count": 143,
   "id": "3de63859",
   "metadata": {},
   "outputs": [
    {
     "name": "stderr",
     "output_type": "stream",
     "text": [
      "\n",
      "KeyboardInterrupt\n",
      "\n"
     ]
    }
   ],
   "source": [
    "for i in fotos:\n",
    "    driver.get(i)\n",
    "    #click\n",
    "    try:\n",
    "        #click, escribir\n",
    "        escribir = driver.find_element(By.XPATH, '//form[@class=\"_aidk _aidl _ak6u\"]/div/textarea').click()\n",
    "        time.sleep(2)\n",
    "        escribir = driver.find_element(By.XPATH, '//form[@class=\"_aidk _aidl _ak6u\"]/div/textarea').send_keys('interesante')\n",
    "        time.sleep(2)\n",
    "        escribir = driver.find_element(By.XPATH, '//div[@class=\"_akhn\"]/div[2]').click()\n",
    "        time.sleep(2)\n",
    "        #publicar\n",
    "        comment = driver.find_element(By.XPATH, '//div[@class=\" _am-5\"]/div').click()\n",
    "        time.sleep(6)\n",
    "        ########################\n",
    "        escribir = driver.find_element(By.XPATH, '//div[@class=\"_akhn\"]/div[2]').click()\n",
    "        time.sleep(2)\n",
    "    except:\n",
    "        continue\n",
    "\n",
    "    #publicar"
   ]
  },
  {
   "cell_type": "code",
   "execution_count": null,
   "id": "7d4ac9f1",
   "metadata": {},
   "outputs": [],
   "source": [
    "#comment = driver.find_element(By.XPATH, '//form[@class=\"_aidk _ak6u\"]/div/textarea[@placeholder=\"Añade un comentario...\"]')\n",
    "#comment.send_keys('interesante')"
   ]
  },
  {
   "cell_type": "code",
   "execution_count": null,
   "id": "2c53c7c9",
   "metadata": {},
   "outputs": [],
   "source": [
    "driver.get('https://www.instagram.com/famosos/?hl=es')"
   ]
  },
  {
   "cell_type": "code",
   "execution_count": null,
   "id": "dfdc278c",
   "metadata": {},
   "outputs": [],
   "source": [
    "driver.find_element_by_xpath(\"//a[contains(@href, '/following')]\").click()"
   ]
  },
  {
   "cell_type": "code",
   "execution_count": null,
   "id": "b8636d1d",
   "metadata": {},
   "outputs": [],
   "source": [
    "scroll_box  = driver.find_element_by_xpath(\"//div[@class='_aano']\")\n",
    "sleep(5)\n",
    "last_ht, ht = 0, 1\n",
    "while last_ht != ht:\n",
    "    last_ht = ht\n",
    "    sleep(2)\n",
    "    ht = driver.execute_script(\"\"\" \n",
    "    arguments[0].scrollTo(0, arguments[0].scrollHeight);\n",
    "    return arguments[0].scrollHeight; \"\"\", scroll_box)\n",
    "    "
   ]
  },
  {
   "cell_type": "code",
   "execution_count": null,
   "id": "ea917f75",
   "metadata": {},
   "outputs": [],
   "source": [
    "seg = driver.find_elements_by_xpath(\"//a[@class='x1i10hfl xjbqb8w x6umtig x1b1mbwd xaqea5y xav7gou x9f619 x1ypdohk xt0psk2 xe8uvvx xdj266r x11i5rnm xat24cr x1mh8g0r xexx8yu x4uap5 x18d9i69 xkhd6sd x16tdsg8 x1hl2dhg xggy1nq x1a2a7pz notranslate _a6hd']\")"
   ]
  },
  {
   "cell_type": "code",
   "execution_count": null,
   "id": "67aa2143",
   "metadata": {},
   "outputs": [],
   "source": [
    "seg = [i.get_attribute('href') for i in seg]\n"
   ]
  },
  {
   "cell_type": "code",
   "execution_count": null,
   "id": "50193937",
   "metadata": {},
   "outputs": [],
   "source": [
    "seg\n"
   ]
  },
  {
   "cell_type": "code",
   "execution_count": null,
   "id": "a515a8d2",
   "metadata": {},
   "outputs": [],
   "source": [
    "driver.maximize_window()"
   ]
  },
  {
   "cell_type": "code",
   "execution_count": null,
   "id": "f6b04a7a",
   "metadata": {},
   "outputs": [],
   "source": [
    "while True:\n",
    "    seg = driver.find_elements_by_xpath(\"//a[@class='x1i10hfl xjbqb8w x6umtig x1b1mbwd xaqea5y xav7gou x9f619 x1ypdohk xt0psk2 xe8uvvx xdj266r x11i5rnm xat24cr x1mh8g0r xexx8yu x4uap5 x18d9i69 xkhd6sd x16tdsg8 x1hl2dhg xggy1nq x1a2a7pz notranslate _a6hd']\")\n",
    "    try:\n",
    "        seg = [i.get_attribute('href') for i in seg]\n",
    "    except:\n",
    "        continue\n",
    "    for i in seg:\n",
    "            driver.get(i)\n",
    "            sleep(10)\n",
    "            try:\n",
    "                seguir = driver.find_element_by_xpath('//div[text()=\"Seguir\"]')\n",
    "                seguir.click()\n",
    "                time.sleep(5)\n",
    "            except:\n",
    "                continue\n",
    "break\n",
    "        \n"
   ]
  },
  {
   "cell_type": "code",
   "execution_count": null,
   "id": "3f85eedf",
   "metadata": {},
   "outputs": [],
   "source": []
  },
  {
   "cell_type": "code",
   "execution_count": null,
   "id": "59a70d03",
   "metadata": {},
   "outputs": [],
   "source": []
  },
  {
   "cell_type": "code",
   "execution_count": null,
   "id": "7a5816f8",
   "metadata": {},
   "outputs": [],
   "source": []
  },
  {
   "cell_type": "code",
   "execution_count": null,
   "id": "ac6dd55b",
   "metadata": {},
   "outputs": [],
   "source": []
  },
  {
   "cell_type": "code",
   "execution_count": null,
   "id": "36a6f50c",
   "metadata": {},
   "outputs": [],
   "source": []
  },
  {
   "cell_type": "code",
   "execution_count": null,
   "id": "46adcd27",
   "metadata": {},
   "outputs": [],
   "source": []
  },
  {
   "cell_type": "code",
   "execution_count": null,
   "id": "d73cfdaa",
   "metadata": {},
   "outputs": [],
   "source": []
  }
 ],
 "metadata": {
  "kernelspec": {
   "display_name": "firstEnv",
   "language": "python",
   "name": "firstenv"
  },
  "language_info": {
   "codemirror_mode": {
    "name": "ipython",
    "version": 3
   },
   "file_extension": ".py",
   "mimetype": "text/x-python",
   "name": "python",
   "nbconvert_exporter": "python",
   "pygments_lexer": "ipython3",
   "version": "3.10.9"
  }
 },
 "nbformat": 4,
 "nbformat_minor": 5
}
