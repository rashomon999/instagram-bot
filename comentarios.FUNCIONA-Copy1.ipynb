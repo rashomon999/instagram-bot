{
 "cells": [
  {
   "cell_type": "code",
   "execution_count": 73,
   "id": "8261a0b5",
   "metadata": {},
   "outputs": [],
   "source": [
    "#control f para buscar en inspeccionar"
   ]
  },
  {
   "cell_type": "code",
   "execution_count": 74,
   "id": "ddce3b6c",
   "metadata": {},
   "outputs": [],
   "source": [
    "#https://www.youtube.com/watch?v=q-Uq9EURoCg&ab_channel=RoCode"
   ]
  },
  {
   "cell_type": "code",
   "execution_count": 1,
   "id": "ea5a76be",
   "metadata": {},
   "outputs": [],
   "source": [
    "import os\n",
    "from selenium import webdriver\n",
    "from selenium.common.exceptions import TimeoutException\n",
    "from selenium.webdriver.support.ui import WebDriverWait # available since 2.4.0\n",
    "import time\n",
    "from selenium.webdriver.common.by import By\n",
    "from selenium.webdriver.common.keys import Keys"
   ]
  },
  {
   "cell_type": "code",
   "execution_count": 2,
   "id": "afa346eb",
   "metadata": {},
   "outputs": [],
   "source": [
    "f = open('credenciales.txt','r')\n",
    "us = f.readline().strip()\n",
    "pas = f.readline().strip()\n",
    "\n"
   ]
  },
  {
   "cell_type": "code",
   "execution_count": 3,
   "id": "7c950afb",
   "metadata": {},
   "outputs": [
    {
     "name": "stderr",
     "output_type": "stream",
     "text": [
      "The chromedriver version (119.0.6045.105) detected in PATH at c:\\xampp\\htdocs\\python_web\\chromedriver.exe might not be compatible with the detected chrome version (120.0.6099.217); currently, chromedriver 120.0.6099.109 is recommended for chrome 120.*, so it is advised to delete the driver in PATH and retry\n"
     ]
    }
   ],
   "source": [
    "ruta = os.getcwd()\n",
    "driver_path = '{}\\chromedriver.exe'.format(ruta)\n",
    "driver = webdriver.Chrome()\n",
    "driver.get('https://instagram.com')\n",
    "time.sleep(2)"
   ]
  },
  {
   "cell_type": "code",
   "execution_count": 78,
   "id": "94606f3e",
   "metadata": {},
   "outputs": [
    {
     "name": "stdout",
     "output_type": "stream",
     "text": [
      "C:\\Users\\user\\Escritorio\\instagram_bot\\chromedriver.exe\n"
     ]
    }
   ],
   "source": [
    "print(driver_path)"
   ]
  },
  {
   "cell_type": "code",
   "execution_count": 79,
   "id": "2f4deb50",
   "metadata": {},
   "outputs": [],
   "source": [
    "driver.set_window_size(500, 1000)"
   ]
  },
  {
   "cell_type": "code",
   "execution_count": 80,
   "id": "22d63800",
   "metadata": {},
   "outputs": [],
   "source": [
    "username= driver.find_element(By.XPATH, \"//*[@id='loginForm']/div/div[1]/div/label/input \")\n",
    "username.click()\n",
    "username.send_keys(us)\n",
    "time.sleep(5)"
   ]
  },
  {
   "cell_type": "code",
   "execution_count": 81,
   "id": "b8de6f8f",
   "metadata": {},
   "outputs": [],
   "source": [
    "username = driver.find_element(By.XPATH, '//*[@id=\"loginForm\"]/div/div[2]/div/label/input')\n",
    "username.click()\n",
    "username.send_keys(pas)\n",
    "time.sleep(5)"
   ]
  },
  {
   "cell_type": "code",
   "execution_count": 82,
   "id": "b7fe4cda",
   "metadata": {},
   "outputs": [],
   "source": [
    "login = driver.find_element(By.XPATH, '//*[@id=\"loginForm\"]/div/div[3]/button')\n",
    "login.click()\n",
    "time.sleep(5)\n"
   ]
  },
  {
   "cell_type": "code",
   "execution_count": 83,
   "id": "7033796a",
   "metadata": {},
   "outputs": [],
   "source": [
    "driver.get('https://www.instagram.com/caliescalioficial/?hl=es-la')"
   ]
  },
  {
   "cell_type": "code",
   "execution_count": 84,
   "id": "94864059",
   "metadata": {},
   "outputs": [],
   "source": [
    "driver.set_window_size(2000, 2000)\n",
    "time.sleep(12)"
   ]
  },
  {
   "cell_type": "code",
   "execution_count": 85,
   "id": "da7bef14",
   "metadata": {},
   "outputs": [],
   "source": [
    "driver.find_element(By.XPATH, \"//a[contains(@href, '/following')]\").click()\n",
    "time.sleep(4)\n"
   ]
  },
  {
   "cell_type": "code",
   "execution_count": 86,
   "id": "5a34b7d0",
   "metadata": {},
   "outputs": [],
   "source": [
    "scroll_box  = driver.find_element(By.XPATH, \"//div[@class='_aano']\")\n",
    "time.sleep(5)\n",
    "last_ht, ht = 0, 1\n",
    "while last_ht != ht:\n",
    "    last_ht = ht\n",
    "    time.sleep(2)\n",
    "    ht = driver.execute_script(\"\"\" \n",
    "    arguments[0].scrollTo(0, arguments[0].scrollHeight);\n",
    "    return arguments[0].scrollHeight; \"\"\", scroll_box)\n"
   ]
  },
  {
   "cell_type": "code",
   "execution_count": 87,
   "id": "12a36ab3",
   "metadata": {},
   "outputs": [],
   "source": [
    "seg = driver.find_elements(By.XPATH, \"//a[@class='x1i10hfl xjbqb8w x6umtig x1b1mbwd xaqea5y xav7gou x9f619 x1ypdohk xt0psk2 xe8uvvx xdj266r x11i5rnm xat24cr x1mh8g0r xexx8yu x4uap5 x18d9i69 xkhd6sd x16tdsg8 x1hl2dhg xggy1nq x1a2a7pz notranslate _a6hd']\")"
   ]
  },
  {
   "cell_type": "code",
   "execution_count": 88,
   "id": "21f6880e",
   "metadata": {},
   "outputs": [],
   "source": [
    "seg = [i.get_attribute('href') for i in seg]\n"
   ]
  },
  {
   "cell_type": "code",
   "execution_count": 89,
   "id": "752950ee",
   "metadata": {},
   "outputs": [],
   "source": [
    "driver.get(seg[-2])\n",
    "time.sleep(6)"
   ]
  },
  {
   "cell_type": "code",
   "execution_count": 90,
   "id": "eb9b3e65",
   "metadata": {},
   "outputs": [
    {
     "data": {
      "text/plain": [
       "['https://www.instagram.com/vicentico_b13/?hl=es-la',\n",
       " 'https://www.instagram.com/pennylove_ig/?hl=es-la',\n",
       " 'https://www.instagram.com/valen_tinanails/?hl=es-la',\n",
       " 'https://www.instagram.com/ubicategpscol/?hl=es-la',\n",
       " 'https://www.instagram.com/ubicategps/?hl=es-la',\n",
       " 'https://www.instagram.com/revistasemana/?hl=es-la',\n",
       " 'https://www.instagram.com/nathaliaramirezm/?hl=es-la',\n",
       " 'https://www.instagram.com/gpsecolombia/?hl=es-la',\n",
       " 'https://www.instagram.com/carlosdiagoa/?hl=es-la',\n",
       " 'https://www.instagram.com/creators/?hl=es-la',\n",
       " 'https://www.instagram.com/kellytrullo/?hl=es-la',\n",
       " 'https://www.instagram.com/ntn24/?hl=es-la',\n",
       " 'https://www.instagram.com/redmasnoticias/?hl=es-la',\n",
       " 'https://www.instagram.com/lafmoficial/?hl=es-la',\n",
       " 'https://www.instagram.com/enteratecolombiaoficial/?hl=es-la',\n",
       " 'https://www.instagram.com/eltiempo/?hl=es-la',\n",
       " 'https://www.instagram.com/rcnradiocolombia/?hl=es-la',\n",
       " 'https://www.instagram.com/bluradio/?hl=es-la',\n",
       " 'https://www.instagram.com/noticiasrcn/?hl=es-la']"
      ]
     },
     "execution_count": 90,
     "metadata": {},
     "output_type": "execute_result"
    }
   ],
   "source": [
    "seg"
   ]
  },
  {
   "cell_type": "code",
   "execution_count": 91,
   "id": "ab0b9e62",
   "metadata": {},
   "outputs": [],
   "source": [
    "driver.set_window_size(500, 1000)\n",
    "time.sleep(15)"
   ]
  },
  {
   "cell_type": "code",
   "execution_count": 92,
   "id": "a0cf7744",
   "metadata": {},
   "outputs": [],
   "source": [
    "#fotos no arrojara todos los elementos de cada foto cargada en ese momento, todos los div son una foto, \n",
    "#y debajo hay una etiqueta a que contiene el href de esa foto, es decir, con conseguir el div,a de una foto obtenemos\n",
    "#las de las otras cargadas en ese momento."
   ]
  },
  {
   "cell_type": "code",
   "execution_count": 93,
   "id": "b3939e12",
   "metadata": {},
   "outputs": [
    {
     "data": {
      "text/plain": [
       "[<selenium.webdriver.remote.webelement.WebElement (session=\"842b63c00045c3bc4b64fdefaca93353\", element=\"154EDE15B2D5BBAB7888CB7DCA951AA7_element_74\")>,\n",
       " <selenium.webdriver.remote.webelement.WebElement (session=\"842b63c00045c3bc4b64fdefaca93353\", element=\"154EDE15B2D5BBAB7888CB7DCA951AA7_element_75\")>,\n",
       " <selenium.webdriver.remote.webelement.WebElement (session=\"842b63c00045c3bc4b64fdefaca93353\", element=\"154EDE15B2D5BBAB7888CB7DCA951AA7_element_76\")>,\n",
       " <selenium.webdriver.remote.webelement.WebElement (session=\"842b63c00045c3bc4b64fdefaca93353\", element=\"154EDE15B2D5BBAB7888CB7DCA951AA7_element_77\")>,\n",
       " <selenium.webdriver.remote.webelement.WebElement (session=\"842b63c00045c3bc4b64fdefaca93353\", element=\"154EDE15B2D5BBAB7888CB7DCA951AA7_element_78\")>,\n",
       " <selenium.webdriver.remote.webelement.WebElement (session=\"842b63c00045c3bc4b64fdefaca93353\", element=\"154EDE15B2D5BBAB7888CB7DCA951AA7_element_79\")>,\n",
       " <selenium.webdriver.remote.webelement.WebElement (session=\"842b63c00045c3bc4b64fdefaca93353\", element=\"154EDE15B2D5BBAB7888CB7DCA951AA7_element_80\")>,\n",
       " <selenium.webdriver.remote.webelement.WebElement (session=\"842b63c00045c3bc4b64fdefaca93353\", element=\"154EDE15B2D5BBAB7888CB7DCA951AA7_element_81\")>,\n",
       " <selenium.webdriver.remote.webelement.WebElement (session=\"842b63c00045c3bc4b64fdefaca93353\", element=\"154EDE15B2D5BBAB7888CB7DCA951AA7_element_82\")>,\n",
       " <selenium.webdriver.remote.webelement.WebElement (session=\"842b63c00045c3bc4b64fdefaca93353\", element=\"154EDE15B2D5BBAB7888CB7DCA951AA7_element_83\")>,\n",
       " <selenium.webdriver.remote.webelement.WebElement (session=\"842b63c00045c3bc4b64fdefaca93353\", element=\"154EDE15B2D5BBAB7888CB7DCA951AA7_element_84\")>,\n",
       " <selenium.webdriver.remote.webelement.WebElement (session=\"842b63c00045c3bc4b64fdefaca93353\", element=\"154EDE15B2D5BBAB7888CB7DCA951AA7_element_85\")>]"
      ]
     },
     "execution_count": 93,
     "metadata": {},
     "output_type": "execute_result"
    }
   ],
   "source": [
    "fotos = driver.find_elements(By.XPATH, '//div[@class= \"_aabd _aa8k x2pgyrj xfllauq xo2y696\"]//a')\n",
    "fotos"
   ]
  },
  {
   "cell_type": "code",
   "execution_count": 94,
   "id": "7f154326",
   "metadata": {},
   "outputs": [],
   "source": [
    "fotos = driver.find_elements(By.XPATH, '//div[@class= \"_aabd _aa8k x2pgyrj xfllauq xo2y696\"]//a')\n",
    "fotos[2].get_attribute('href')\n",
    "driver.find_elements(By.XPATH, \"//a[contains(@href, '/a')]\")\n",
    "publi =driver.find_element(By.XPATH, '//ul[@class=\"x5ur3kl x13fuv20 x178xt8z x78zum5 x1q0g3np x1l1ennw xz9dl7a x4uap5 xsag5q8 xkhd6sd\"]//li[1]//span//span').text\n",
    "time.sleep(5)"
   ]
  },
  {
   "cell_type": "code",
   "execution_count": 95,
   "id": "8c3eafa3",
   "metadata": {},
   "outputs": [],
   "source": [
    "#encontrar el ul que consigue el numero de publicaciones, seguidores y seguidos (la class de este ul es la que\n",
    "#copiamos), luego se optiene el primer li que es el de publicaciones y luego el span que seria el numero en si."
   ]
  },
  {
   "cell_type": "code",
   "execution_count": 96,
   "id": "1cd57435",
   "metadata": {},
   "outputs": [
    {
     "data": {
      "text/plain": [
       "'22.418'"
      ]
     },
     "execution_count": 96,
     "metadata": {},
     "output_type": "execute_result"
    }
   ],
   "source": [
    "fotos = []\n",
    "publi\n"
   ]
  },
  {
   "cell_type": "code",
   "execution_count": 97,
   "id": "42deb424",
   "metadata": {},
   "outputs": [],
   "source": [
    "from selenium.webdriver.common.keys import Keys"
   ]
  },
  {
   "cell_type": "code",
   "execution_count": null,
   "id": "1f906059",
   "metadata": {},
   "outputs": [
    {
     "name": "stdout",
     "output_type": "stream",
     "text": [
      "34\n",
      "34\n",
      "34\n",
      "34\n",
      "34\n",
      "34\n",
      "34\n",
      "46\n",
      "46\n",
      "46\n",
      "46\n",
      "46\n",
      "46\n",
      "46\n",
      "46\n",
      "46\n",
      "46\n",
      "46\n",
      "46\n",
      "46\n",
      "46\n",
      "46\n",
      "46\n",
      "46\n",
      "46\n",
      "46\n",
      "46\n",
      "46\n",
      "46\n",
      "46\n",
      "46\n",
      "46\n",
      "46\n",
      "46\n",
      "46\n",
      "46\n",
      "46\n",
      "46\n",
      "46\n",
      "46\n",
      "46\n",
      "46\n",
      "46\n",
      "46\n",
      "46\n",
      "46\n",
      "46\n",
      "46\n",
      "46\n",
      "46\n",
      "46\n",
      "46\n",
      "46\n",
      "46\n"
     ]
    }
   ],
   "source": [
    "while True:\n",
    "    driver.execute_script(\"\"\"window.scrollTo(0,document.body.scrollHeight)\"\"\")\n",
    "    time.sleep(2)\n",
    "    f = driver.find_elements(By.XPATH, '//div[@class= \"_aabd _aa8k x2pgyrj xfllauq xo2y696\"]//a')\n",
    "    try:\n",
    "        f = [i.get_attribute('href') for i in f]\n",
    "    except:\n",
    "        continue\n",
    "    for i in f:\n",
    "        if i not in fotos:\n",
    "            fotos.append(i)\n",
    "    print(len(fotos))\n",
    "    if len(fotos) == int(float(publi)):\n",
    "        break\n"
   ]
  },
  {
   "cell_type": "code",
   "execution_count": null,
   "id": "e1ed077a",
   "metadata": {},
   "outputs": [],
   "source": [
    "fotos\n"
   ]
  },
  {
   "cell_type": "code",
   "execution_count": null,
   "id": "e5a841d6",
   "metadata": {},
   "outputs": [],
   "source": [
    "comentarios = WebDriverWait(driver,10)"
   ]
  },
  {
   "cell_type": "code",
   "execution_count": null,
   "id": "91637be6",
   "metadata": {},
   "outputs": [],
   "source": [
    "driver.set_window_size(800, 800)"
   ]
  },
  {
   "cell_type": "code",
   "execution_count": null,
   "id": "7079d63b",
   "metadata": {},
   "outputs": [],
   "source": [
    "#lo importante es encontrar la ruta de (form class='')"
   ]
  },
  {
   "cell_type": "code",
   "execution_count": null,
   "id": "88168e65",
   "metadata": {},
   "outputs": [],
   "source": [
    "#escribir = driver.find_element(By.XPATH, '//form[@class=\"_aidk _aidl _ak6u\"]/div/textarea').click()"
   ]
  },
  {
   "cell_type": "code",
   "execution_count": null,
   "id": "c04e12e6",
   "metadata": {},
   "outputs": [],
   "source": [
    "comment = driver.find_element(By.XPATH, '//form[@class=\"_aidk _aidl _ak6u\"]/div/textarea[@placeholder=\"Añade un comentario...\"]')"
   ]
  },
  {
   "cell_type": "code",
   "execution_count": null,
   "id": "aad52e2c",
   "metadata": {},
   "outputs": [],
   "source": [
    "escribir = driver.find_element(By.XPATH, '//form[@class=\"_aidk _aidl _ak6u\"]/div/textarea').send_keys('interesante')\n"
   ]
  },
  {
   "cell_type": "code",
   "execution_count": null,
   "id": "e67020ec",
   "metadata": {},
   "outputs": [],
   "source": [
    "#estar atento porque siempre para realizar la busquedad tiene que estar el publicar activado( tiene que estar escrito algo)\n",
    "#el div \"_akhn\" se divide en dos: uno de emojis que contiene tambien la parte pa escribir y el de publicar.\n",
    "#escribir = driver.find_element(By.XPATH, '//div[@class=\"_akhn\"]/div[2]').click()"
   ]
  },
  {
   "cell_type": "code",
   "execution_count": null,
   "id": "3de63859",
   "metadata": {},
   "outputs": [],
   "source": [
    "for i in fotos:\n",
    "    driver.get(i)\n",
    "    #click\n",
    "    try:\n",
    "        #click, escribir\n",
    "        escribir = driver.find_element(By.XPATH, '//form[@class=\"_aidk _aidl _ak6u\"]/div/textarea').click()\n",
    "        time.sleep(2)\n",
    "        escribir = driver.find_element(By.XPATH, '//form[@class=\"_aidk _aidl _ak6u\"]/div/textarea').send_keys('interesante')\n",
    "        time.sleep(2)\n",
    "        escribir = driver.find_element(By.XPATH, '//div[@class=\"_akhn\"]/div[2]').click()\n",
    "        time.sleep(2)\n",
    "        #publicar\n",
    "        comment = driver.find_element(By.XPATH, '//div[@class=\" _am-5\"]/div').click()\n",
    "        time.sleep(6)\n",
    "        ########################\n",
    "        escribir = driver.find_element(By.XPATH, '//div[@class=\"_akhn\"]/div[2]').click()\n",
    "        time.sleep(2)\n",
    "    except:\n",
    "        continue\n",
    "\n",
    "    #publicar"
   ]
  },
  {
   "cell_type": "code",
   "execution_count": null,
   "id": "7d4ac9f1",
   "metadata": {},
   "outputs": [],
   "source": [
    "#comment = driver.find_element(By.XPATH, '//form[@class=\"_aidk _ak6u\"]/div/textarea[@placeholder=\"Añade un comentario...\"]')\n",
    "#comment.send_keys('interesante')"
   ]
  },
  {
   "cell_type": "code",
   "execution_count": null,
   "id": "2c53c7c9",
   "metadata": {},
   "outputs": [],
   "source": [
    "driver.get('https://www.instagram.com/famosos/?hl=es')"
   ]
  },
  {
   "cell_type": "code",
   "execution_count": null,
   "id": "dfdc278c",
   "metadata": {},
   "outputs": [],
   "source": [
    "driver.find_element_by_xpath(\"//a[contains(@href, '/following')]\").click()"
   ]
  },
  {
   "cell_type": "code",
   "execution_count": null,
   "id": "b8636d1d",
   "metadata": {},
   "outputs": [],
   "source": [
    "scroll_box  = driver.find_element_by_xpath(\"//div[@class='_aano']\")\n",
    "sleep(5)\n",
    "last_ht, ht = 0, 1\n",
    "while last_ht != ht:\n",
    "    last_ht = ht\n",
    "    sleep(2)\n",
    "    ht = driver.execute_script(\"\"\" \n",
    "    arguments[0].scrollTo(0, arguments[0].scrollHeight);\n",
    "    return arguments[0].scrollHeight; \"\"\", scroll_box)\n",
    "    "
   ]
  },
  {
   "cell_type": "code",
   "execution_count": null,
   "id": "ea917f75",
   "metadata": {},
   "outputs": [],
   "source": [
    "seg = driver.find_elements_by_xpath(\"//a[@class='x1i10hfl xjbqb8w x6umtig x1b1mbwd xaqea5y xav7gou x9f619 x1ypdohk xt0psk2 xe8uvvx xdj266r x11i5rnm xat24cr x1mh8g0r xexx8yu x4uap5 x18d9i69 xkhd6sd x16tdsg8 x1hl2dhg xggy1nq x1a2a7pz notranslate _a6hd']\")"
   ]
  },
  {
   "cell_type": "code",
   "execution_count": null,
   "id": "67aa2143",
   "metadata": {},
   "outputs": [],
   "source": [
    "seg = [i.get_attribute('href') for i in seg]\n"
   ]
  },
  {
   "cell_type": "code",
   "execution_count": null,
   "id": "50193937",
   "metadata": {},
   "outputs": [],
   "source": [
    "seg\n"
   ]
  },
  {
   "cell_type": "code",
   "execution_count": null,
   "id": "a515a8d2",
   "metadata": {},
   "outputs": [],
   "source": [
    "driver.maximize_window()"
   ]
  },
  {
   "cell_type": "code",
   "execution_count": null,
   "id": "f6b04a7a",
   "metadata": {},
   "outputs": [],
   "source": [
    "while True:\n",
    "    seg = driver.find_elements_by_xpath(\"//a[@class='x1i10hfl xjbqb8w x6umtig x1b1mbwd xaqea5y xav7gou x9f619 x1ypdohk xt0psk2 xe8uvvx xdj266r x11i5rnm xat24cr x1mh8g0r xexx8yu x4uap5 x18d9i69 xkhd6sd x16tdsg8 x1hl2dhg xggy1nq x1a2a7pz notranslate _a6hd']\")\n",
    "    try:\n",
    "        seg = [i.get_attribute('href') for i in seg]\n",
    "    except:\n",
    "        continue\n",
    "    for i in seg:\n",
    "            driver.get(i)\n",
    "            sleep(10)\n",
    "            try:\n",
    "                seguir = driver.find_element_by_xpath('//div[text()=\"Seguir\"]')\n",
    "                seguir.click()\n",
    "                time.sleep(5)\n",
    "            except:\n",
    "                continue\n",
    "break\n",
    "        \n"
   ]
  },
  {
   "cell_type": "code",
   "execution_count": null,
   "id": "3f85eedf",
   "metadata": {},
   "outputs": [],
   "source": []
  },
  {
   "cell_type": "code",
   "execution_count": null,
   "id": "59a70d03",
   "metadata": {},
   "outputs": [],
   "source": []
  },
  {
   "cell_type": "code",
   "execution_count": null,
   "id": "7a5816f8",
   "metadata": {},
   "outputs": [],
   "source": []
  },
  {
   "cell_type": "code",
   "execution_count": null,
   "id": "ac6dd55b",
   "metadata": {},
   "outputs": [],
   "source": []
  },
  {
   "cell_type": "code",
   "execution_count": null,
   "id": "36a6f50c",
   "metadata": {},
   "outputs": [],
   "source": []
  },
  {
   "cell_type": "code",
   "execution_count": null,
   "id": "46adcd27",
   "metadata": {},
   "outputs": [],
   "source": []
  },
  {
   "cell_type": "code",
   "execution_count": null,
   "id": "d73cfdaa",
   "metadata": {},
   "outputs": [],
   "source": []
  }
 ],
 "metadata": {
  "kernelspec": {
   "display_name": "firtsEnv",
   "language": "python",
   "name": "firtsenv"
  },
  "language_info": {
   "codemirror_mode": {
    "name": "ipython",
    "version": 3
   },
   "file_extension": ".py",
   "mimetype": "text/x-python",
   "name": "python",
   "nbconvert_exporter": "python",
   "pygments_lexer": "ipython3",
   "version": "3.10.9"
  }
 },
 "nbformat": 4,
 "nbformat_minor": 5
}
